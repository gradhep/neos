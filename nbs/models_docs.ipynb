{
 "cells": [
  {
   "cell_type": "markdown",
   "metadata": {},
   "source": [
    "# neos.models\n",
    "\n",
    "This module implements a very lightweght version of pyhf-like model building. For now, there are some hard-coded numbers (bounds, init) that help with the three gaussian blobs demonstration. This is not meant to be used in practice, as we plan to interface with full pyhf, but this is easily customizable if you want to make some modifications to try something out :)"
   ]
  },
  {
   "cell_type": "markdown",
   "metadata": {},
   "source": [
    "### Build an example model, and get gradients: "
   ]
  },
  {
   "cell_type": "code",
   "execution_count": 4,
   "metadata": {},
   "outputs": [
    {
     "output_type": "execute_result",
     "data": {
      "text/plain": "(DeviceArray(-27.74804929, dtype=float64),\n [DeviceArray(-22., dtype=float64), DeviceArray(-19., dtype=float64)])"
     },
     "metadata": {},
     "execution_count": 4
    }
   ],
   "source": [
    "import jax\n",
    "import jax.numpy as jnp\n",
    "\n",
    "from neos import models\n",
    "\n",
    "# Three-bin model: [bin1,bin2,bin3]\n",
    "sig = jnp.asarray([20, 40, 3])\n",
    "bkg = jnp.asarray([40, 20, 3])\n",
    "uncert = jnp.asarray([3, 3, 3])\n",
    "\n",
    "m = models.hepdata_like(sig, bkg, uncert)\n",
    "d = m.expected_data([1.0, 1.0])\n",
    "\n",
    "# need scalar output (logpdf returns array w/ one element)\n",
    "def logpdf_scalar(pars):\n",
    "    return m.logpdf(pars, d)[0]\n",
    "\n",
    "# check we can get gradients!\n",
    "jax.value_and_grad(logpdf_scalar)([2.0, 1.0])"
   ]
  }
 ],
 "metadata": {
  "kernelspec": {
   "display_name": "Python 3",
   "language": "python",
   "name": "python3"
  },
  "language_info": {
   "codemirror_mode": {
    "name": "ipython",
    "version": 3
   },
   "file_extension": ".py",
   "mimetype": "text/x-python",
   "name": "python",
   "nbconvert_exporter": "python",
   "pygments_lexer": "ipython3",
   "version": "3.8.4"
  }
 },
 "nbformat": 4,
 "nbformat_minor": 4
}