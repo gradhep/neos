{
 "cells": [
  {
   "cell_type": "code",
   "execution_count": null,
   "metadata": {},
   "outputs": [],
   "source": [
    "# default_exp makers"
   ]
  },
  {
   "cell_type": "markdown",
   "metadata": {},
   "source": [
    "# neos.makers\n",
    "\n",
    "> Functions that define the workflow from parametric observable --> statistical model."
   ]
  },
  {
   "cell_type": "markdown",
   "metadata": {},
   "source": [
    "This module contains example implementations of functions that are composed such that everything downstream is a function of the parameters of your observable, e.g. the weights of a neural network.\n",
    "\n",
    "A key idea here is that the functions in this module take in and return functions, such that one can compose them for an end result like:\n",
    "`loss = cls_maker(model_maker(hist_maker)) --> loss(params) = CLs`, as we want to compose our workflow such that the end result is explicitly a function of the parameters of the observable."
   ]
  },
  {
   "cell_type": "code",
   "execution_count": null,
   "metadata": {},
   "outputs": [],
   "source": [
    "#export\n",
    "import jax\n",
    "import jax.scipy as jsc\n",
    "import jax.numpy as jnp\n",
    "import numpy as np\n",
    "from functools import partial\n",
    "\n",
    "from neos import models"
   ]
  },
  {
   "cell_type": "markdown",
   "metadata": {},
   "source": [
    "## Histogram makers:"
   ]
  },
  {
   "cell_type": "code",
   "execution_count": null,
   "metadata": {},
   "outputs": [],
   "source": [
    "#export\n",
    "def hists_from_nn_three_blobs(predict, NMC = 500, sig_mean = [-1, 1], b1_mean=[2, 2], b2_mean=[-1, -1], LUMI=10, sig_scale = 2, bkg_scale = 10):\n",
    "    '''\n",
    "    Uses the nn decision function `predict` to form histograms from signal and background \n",
    "    data, all drawn from multivariate normal distributions with different means. Two \n",
    "    background distributions are sampled from, which is meant to mimic the situation in \n",
    "    particle physics where one has a 'nominal' prediction for a nuisance parameter and then \n",
    "    an alternate value (e.g. from varying up/down by one standard deviation), which then \n",
    "    modifies the background pdf. Here, we take that effect to be a shift of the mean of the \n",
    "    distribution. The value for the background histogram is then the mean of the resulting \n",
    "    counts of the two modes, and the uncertainty can be quantified through the count \n",
    "    standard deviation.\n",
    "    \n",
    "    Args:\n",
    "            predict: Decision function for a parameterized observable. Assumed softmax here.\n",
    "\n",
    "    Returns:\n",
    "            hist_maker: A callable function that takes the parameters of the observable, \n",
    "            then constructs signal, background, and background uncertainty yields.\n",
    "    '''\n",
    "    def get_hists(network, s, bs):\n",
    "        NMC = len(s)\n",
    "        s_hist = predict(network, s).sum(axis=0) * sig_scale / NMC * LUMI\n",
    "        \n",
    "        b_hists = tuple(\n",
    "            (predict(network, b).sum(axis=0) * bkg_scale / NMC * LUMI) for b in bs\n",
    "        )\n",
    "        \n",
    "        b_mean = jax.numpy.mean(jax.numpy.asarray(b_hists), axis=0)\n",
    "        b_unc = jax.numpy.std(jax.numpy.asarray(b_hists), axis=0)\n",
    "        results = s_hist, b_mean, b_unc\n",
    "        return results\n",
    "\n",
    "\n",
    "    def hist_maker():\n",
    "        bkg1 = np.random.multivariate_normal(b1_mean, [[1, 0], [0, 1]], size=(NMC,))\n",
    "        bkg2 = np.random.multivariate_normal(b2_mean, [[1, 0], [0, 1]], size=(NMC,))\n",
    "        sig = np.random.multivariate_normal(sig_mean, [[1, 0], [0, 1]], size=(NMC,))\n",
    "\n",
    "        def make(network):\n",
    "            return get_hists(network, sig, (bkg1,bkg2))\n",
    "\n",
    "        make.bkg1 = bkg1\n",
    "        make.bkg2 = bkg2\n",
    "        make.sig = sig\n",
    "        return make\n",
    "    \n",
    "    return hist_maker\n",
    "\n"
   ]
  },
  {
   "cell_type": "markdown",
   "metadata": {},
   "source": [
    "### Example usage for `hists_from_nn_three_blobs`:"
   ]
  },
  {
   "cell_type": "code",
   "execution_count": null,
   "metadata": {},
   "outputs": [],
   "source": [
    "from jax.experimental import stax\n",
    "\n",
    "init_random_params, predict = stax.serial(\n",
    "    stax.Dense(100),\n",
    "    stax.Relu,\n",
    "    stax.Dense(2), # Two node output -> two bins!\n",
    "    stax.Softmax,\n",
    ")\n",
    "\n",
    "hist_maker = hists_from_nn_three_blobs(predict)"
   ]
  },
  {
   "cell_type": "markdown",
   "metadata": {},
   "source": [
    "We would then compose `hist_maker` with other functions that define a model and a way to do statistical inference, but we can still use it standalone if we want:"
   ]
  },
  {
   "cell_type": "code",
   "execution_count": null,
   "metadata": {},
   "outputs": [
    {
     "name": "stdout",
     "output_type": "stream",
     "text": [
      "[10.38028255  9.61971745] [45.45590118 54.54409882] [7.6892415 7.6892415]\n"
     ]
    }
   ],
   "source": [
    "# initialize network parameters\n",
    "_, network = init_random_params(jax.random.PRNGKey(2), (-1, 2))\n",
    "\n",
    "hists_from_network = hist_maker()\n",
    "s, b, b_unc = hists_from_network(network)\n",
    "print(s, b, b_unc)"
   ]
  },
  {
   "cell_type": "code",
   "execution_count": null,
   "metadata": {},
   "outputs": [
    {
     "data": {
      "text/plain": [
       "<matplotlib.legend.Legend at 0x140e395d0>"
      ]
     },
     "execution_count": null,
     "metadata": {},
     "output_type": "execute_result"
    },
    {
     "data": {
      "image/png": "[encoded data removed]",
      "text/plain": [
       "<Figure size 516x387 with 1 Axes>"
      ]
     },
     "metadata": {
      "needs_background": "light"
     },
     "output_type": "display_data"
    }
   ],
   "source": [
    "import matplotlib.pyplot as plt\n",
    "\n",
    "plt.figure(figsize=(4,3),dpi=129)\n",
    "plt.bar([0, 1], b, color=\"C1\", label=\"bkg\")\n",
    "plt.bar([0, 1], s, bottom=b, color=\"C9\", label=\"sig\")\n",
    "plt.bar([0, 1], b_unc, bottom=b - b_unc / 2.0, alpha=0.4, color=\"black\", label=\"bkg error\")\n",
    "plt.xlabel('nn output')\n",
    "plt.ylabel('frequency')\n",
    "plt.legend()"
   ]
  },
  {
   "cell_type": "markdown",
   "metadata": {},
   "source": [
    "## Using kernel density estimation:\n",
    "\n",
    "Watch the kernel density estimate mimic a histogram using discrete evaluations of the integral of the cumulative density function:\n",
    "\n",
    "![](assets/kde_bins.giF)"
   ]
  },
  {
   "cell_type": "code",
   "execution_count": null,
   "metadata": {},
   "outputs": [],
   "source": [
    "#export\n",
    "# kde experiment\n",
    "\n",
    "def kde_bins_from_nn_three_blobs(predict, bins, bandwidth, NMC = 500, sig_mean = [-1, 1], b1_mean=[2, 2], b2_mean=[-1, -1], LUMI=10, sig_scale = 2, bkg_scale = 10):\n",
    "    '''\n",
    "    Exactly the same as `hists_from_nn_three_blobs`, but takes in a regression network, and\n",
    "    forms a kernel density estimate (kde) for the output. The yields are then calculated as \n",
    "    the integral of the kde's cumulative density function between the bin edges, which should\n",
    "    be specified using the argument `bins`.\n",
    "    \n",
    "    Args:\n",
    "            predict: Decision function for a parameterized observable. When evaluated, the \n",
    "            output should be one number per event, i.e. a regression network or similar.\n",
    "            \n",
    "            bins: Array of bin edges, e.g. np.linspace(0,1,3) defines a two-bin histogram with\n",
    "            edges at 0, 0.5, 1.\n",
    "            \n",
    "            bandwidth: Float that controls the 'smoothness' of the kde. It's recommended to keep\n",
    "            this lower than the bin width to avoid oversmoothing the distribution. Going too low\n",
    "            will cause things to break, as the gradients of the kde become unstable. 0.1*bin_width\n",
    "            is a good rule of thumb, but we have yet to properly validate this practically.\n",
    "\n",
    "    Returns:\n",
    "            hist_maker: A callable function that takes the parameters of the observable, \n",
    "            then constructs signal, background, and background uncertainty yields.\n",
    "    '''\n",
    "    # grab bin edges\n",
    "    edge_lo   = bins[:-1]\n",
    "    edge_hi   = bins[1:]\n",
    "    \n",
    "    # get counts from gaussian cdfs centered on each event, evaluated binwise\n",
    "    def to_hist(events):\n",
    "        cdf_up = jsc.stats.norm.cdf(edge_hi.reshape(-1,1),loc = events, scale = bandwidth)\n",
    "        cdf_dn = jsc.stats.norm.cdf(edge_lo.reshape(-1,1),loc = events, scale = bandwidth)\n",
    "        summed = (cdf_up-cdf_dn).sum(axis=1)\n",
    "        return summed\n",
    "    \n",
    "    def get_hists(network, s, b1, b2):\n",
    "        NMC = len(s)\n",
    "        nn_s, nn_b1, nn_b2 = (\n",
    "            predict(network, s).ravel(),\n",
    "            predict(network, b1).ravel(),\n",
    "            predict(network, b2).ravel(),\n",
    "        )\n",
    "             \n",
    "        kde_counts = jax.numpy.asarray([\n",
    "            to_hist(nn_s)* sig_scale / NMC * LUMI,\n",
    "            to_hist(nn_b1)* bkg_scale / NMC * LUMI,\n",
    "            to_hist(nn_b2)* bkg_scale / NMC * LUMI,\n",
    "        ])\n",
    "        \n",
    "        b_mean = jax.numpy.mean(kde_counts[1:], axis=0)\n",
    "        b_unc = jax.numpy.std(kde_counts[1:], axis=0)\n",
    "        results = kde_counts[0], b_mean,b_unc\n",
    "        return results\n",
    "\n",
    "\n",
    "    def hist_maker():\n",
    "        bkg1 = np.random.multivariate_normal(b1_mean, [[1, 0], [0, 1]], size=(NMC,))\n",
    "        bkg2 = np.random.multivariate_normal(b2_mean, [[1, 0], [0, 1]], size=(NMC,))\n",
    "        sig = np.random.multivariate_normal(sig_mean, [[1, 0], [0, 1]], size=(NMC,))\n",
    "\n",
    "        def make(network):\n",
    "            return get_hists(network, sig, bkg1, bkg2)\n",
    "\n",
    "        make.bkg1 = bkg1\n",
    "        make.bkg2 = bkg2\n",
    "        make.sig = sig\n",
    "        return make\n",
    "    \n",
    "    return hist_maker"
   ]
  },
  {
   "cell_type": "markdown",
   "metadata": {},
   "source": [
    "### Example usage for `kde_bins_from_nn_three_blobs`:"
   ]
  },
  {
   "cell_type": "code",
   "execution_count": null,
   "metadata": {},
   "outputs": [],
   "source": [
    "init_random_params, predict = stax.serial(\n",
    "    stax.Dense(100),\n",
    "    stax.Relu,\n",
    "    stax.Dense(1), # One node for regression\n",
    "    stax.Sigmoid,\n",
    ")\n",
    "\n",
    "# need to pre-specify binning: use 0-1 range from sigmoid\n",
    "# NB: should work with relu etc too, just have to make a binning choice\n",
    "bins = np.linspace(0,1,4)\n",
    "centers   = bins[:-1]  + np.diff(bins)/2. # for plotting\n",
    "\n",
    "# pick a bandwidth\n",
    "bin_width = 1/(len(bins)-1)\n",
    "bandwidth = 0.5 * bin_width\n",
    "\n",
    "hist_maker = kde_bins_from_nn_three_blobs(predict, bins, bandwidth)"
   ]
  },
  {
   "cell_type": "markdown",
   "metadata": {},
   "source": [
    "As before, we can use this stand-alone if desired:"
   ]
  },
  {
   "cell_type": "code",
   "execution_count": null,
   "metadata": {},
   "outputs": [
    {
     "name": "stdout",
     "output_type": "stream",
     "text": [
      "[ 6.17462559 12.07716788  1.55236726] [21.62991409 63.26108926 14.43074986] [10.44450875  3.20164352  7.54310471]\n"
     ]
    }
   ],
   "source": [
    "# initialize network parameters\n",
    "_, network = init_random_params(jax.random.PRNGKey(2), (-1, 2))\n",
    "\n",
    "hists_from_network = hist_maker()\n",
    "s, b, b_unc = hists_from_network(network)\n",
    "print(s, b, b_unc)"
   ]
  },
  {
   "cell_type": "code",
   "execution_count": null,
   "metadata": {},
   "outputs": [
    {
     "data": {
      "text/plain": [
       "<matplotlib.legend.Legend at 0x141b6e3d0>"
      ]
     },
     "execution_count": null,
     "metadata": {},
     "output_type": "execute_result"
    },
    {
     "data": {
      "image/png": "[encoded data removed]",
      "text/plain": [
       "<Figure size 516x387 with 1 Axes>"
      ]
     },
     "metadata": {
      "needs_background": "light"
     },
     "output_type": "display_data"
    }
   ],
   "source": [
    "plt.figure(figsize=(4,3),dpi=129)\n",
    "plt.bar(centers, b, color=\"C1\", label=\"bkg\",width=bin_width)\n",
    "plt.bar(centers, s, bottom=b, color=\"C9\", label=\"sig\",width=bin_width)\n",
    "plt.bar(centers, b_unc, bottom=b - b_unc / 2.0, alpha=0.4, color=\"black\", label=\"bkg error\",width=bin_width)\n",
    "plt.xlabel('nn output')\n",
    "plt.ylabel('frequency')\n",
    "plt.legend()"
   ]
  },
  {
   "cell_type": "code",
   "execution_count": null,
   "metadata": {},
   "outputs": [],
   "source": [
    "#export\n",
    "# kde experiment\n",
    "\n",
    "def kde_bins_from_nn_histosys(predict, bins, bandwidth, NMC = 500, sig_mean = [-1, 1], b1_mean=[2.5, 2], b_mean=[1, -1], b2_mean=[-2.5, -1.5], LUMI=10, sig_scale = 2, bkg_scale = 10):\n",
    "    '''\n",
    "    Exactly the same as `hists_from_nn_three_blobs`, but takes in a regression network, and\n",
    "    forms a kernel density estimate (kde) for the output. The yields are then calculated as \n",
    "    the integral of the kde's cumulative density function between the bin edges, which should\n",
    "    be specified using the argument `bins`.\n",
    "    \n",
    "    Args:\n",
    "            predict: Decision function for a parameterized observable. When evaluated, the \n",
    "            output should be one number per event, i.e. a regression network or similar.\n",
    "            \n",
    "            bins: Array of bin edges, e.g. np.linspace(0,1,3) defines a two-bin histogram with\n",
    "            edges at 0, 0.5, 1.\n",
    "            \n",
    "            bandwidth: Float that controls the 'smoothness' of the kde. It's recommended to keep\n",
    "            this lower than the bin width to avoid oversmoothing the distribution. Going too low\n",
    "            will cause things to break, as the gradients of the kde become unstable. 0.1*bin_width\n",
    "            is a good rule of thumb, but we have yet to properly validate this practically.\n",
    "\n",
    "    Returns:\n",
    "            hist_maker: A callable function that takes the parameters of the observable, \n",
    "            then constructs signal, background, and background uncertainty yields.\n",
    "    '''\n",
    "    # grab bin edges\n",
    "    edge_lo   = bins[:-1]\n",
    "    edge_hi   = bins[1:]\n",
    "    \n",
    "    # get counts from gaussian cdfs centered on each event, evaluated binwise\n",
    "    def to_hist(events):\n",
    "        cdf_up = jsc.stats.norm.cdf(edge_hi.reshape(-1,1),loc = events, scale = bandwidth)\n",
    "        cdf_dn = jsc.stats.norm.cdf(edge_lo.reshape(-1,1),loc = events, scale = bandwidth)\n",
    "        summed = (cdf_up-cdf_dn).sum(axis=1)\n",
    "        return summed\n",
    "    \n",
    "    def get_hists(network, s, b_nom, b_up, b_down):\n",
    "        NMC = len(s)\n",
    "        nn_s, nn_b_nom, nn_b_up, nn_b_down = (\n",
    "            predict(network, s).ravel(),\n",
    "            predict(network, b_nom).ravel(),\n",
    "            predict(network, b_up).ravel(),\n",
    "            predict(network, b_down).ravel(),\n",
    "        )\n",
    "             \n",
    "        kde_counts = jax.numpy.asarray([\n",
    "            to_hist(nn_s) * sig_scale / NMC * LUMI,\n",
    "            to_hist(nn_b_nom) * bkg_scale / NMC * LUMI,\n",
    "            to_hist(nn_b_up) * bkg_scale / NMC * LUMI,\n",
    "            to_hist(nn_b_down) * bkg_scale / NMC * LUMI,\n",
    "        ])\n",
    "        \n",
    "        return kde_counts\n",
    "\n",
    "\n",
    "    def hist_maker():\n",
    "        bkg_up = np.random.multivariate_normal(b1_mean, [[1, 0], [0, 1]], size=(NMC,))\n",
    "        bkg_down = np.random.multivariate_normal(b2_mean, [[1, 0], [0, 1]], size=(NMC,))\n",
    "        bkg_nom = np.random.multivariate_normal(b_mean, [[1, 0], [0, 1]], size=(NMC,))\n",
    "        sig = np.random.multivariate_normal(sig_mean, [[1, 0], [0, 1]], size=(NMC,))\n",
    "\n",
    "        def make(network):\n",
    "            return get_hists(network, sig, bkg_nom, bkg_up, bkg_down)\n",
    "        \n",
    "        make.bkg_nom = bkg_nom\n",
    "        make.bkg_up = bkg_up\n",
    "        make.bkg_down = bkg_down\n",
    "        make.sig = sig\n",
    "        return make\n",
    "    \n",
    "    return hist_maker"
   ]
  },
  {
   "cell_type": "markdown",
   "metadata": {},
   "source": [
    "## Model makers:"
   ]
  },
  {
   "cell_type": "code",
   "execution_count": null,
   "metadata": {},
   "outputs": [],
   "source": [
    "#export\n",
    "import pyhf\n",
    "pyhf.set_backend(pyhf.tensor.jax_backend())\n",
    "\n",
    "from neos import models\n",
    "\n",
    "def nn_hepdata_like(histogram_maker):\n",
    "    '''\n",
    "    Returns a function that constructs a typical 'hepdata-like' statistical model\n",
    "    with signal, background, and background uncertainty yields when evaluated at\n",
    "    the parameters of the observable.\n",
    "    \n",
    "    Args:\n",
    "            histogram_maker: A function that, when called, returns a secondary function\n",
    "            that takes the observable's parameters as argument, and returns yields.\n",
    "         \n",
    "    Returns:\n",
    "            nn_model_maker: A function that returns a Model object (either from \n",
    "            `neos.models` or from `pyhf`) when evaluated at the observable's parameters, \n",
    "            along with the background-only parameters for use in downstream inference.\n",
    "    '''\n",
    "    hm = histogram_maker()\n",
    "    \n",
    "    def nn_model_maker(network):\n",
    "        s, b, db = hm(network)\n",
    "#         print(f's={s}, b={b}, db={db}')\n",
    "#         m = pyhf.simplemodels.hepdata_like(s, b, db) # pyhf model\n",
    "        m = models.hepdata_like(s, b, db) # neos model\n",
    "        nompars = m.config.suggested_init()\n",
    "        bonlypars = jax.numpy.asarray([x for x in nompars])\n",
    "        bonlypars = jax.ops.index_update(bonlypars, m.config.poi_index, 0.0)\n",
    "        return m, bonlypars\n",
    "\n",
    "    nn_model_maker.hm = hm\n",
    "    return nn_model_maker"
   ]
  },
  {
   "cell_type": "markdown",
   "metadata": {},
   "source": [
    "### Example usage of `nn_hepdata_like`:\n",
    "\n",
    "We can compose a histogram maker function with this to create a model:"
   ]
  },
  {
   "cell_type": "code",
   "execution_count": null,
   "metadata": {},
   "outputs": [
    {
     "name": "stdout",
     "output_type": "stream",
     "text": [
      "<neos.models.Model object at 0x141187d10> [0. 1.]\n"
     ]
    }
   ],
   "source": [
    "# uses kde example from previous demo as hist_maker\n",
    "nn_observable_model = nn_hepdata_like(hist_maker)\n",
    "model, bkg_only_pars = nn_observable_model(network)\n",
    "print(model, bkg_only_pars)"
   ]
  },
  {
   "cell_type": "code",
   "execution_count": null,
   "metadata": {},
   "outputs": [],
   "source": [
    "#export\n",
    "def nn_histosys(histogram_maker):\n",
    "    '''\n",
    "    Returns a function that constructs a HEP statistical model using a 'histosys' \n",
    "    uncertainty for the background (nominal background, up and down systematic variations)\n",
    "    when evaluated at the parameters of the observable.\n",
    "    \n",
    "    Args:\n",
    "            histogram_maker: A function that, when called, returns a secondary function\n",
    "            that takes the observable's parameters as argument, and returns yields.\n",
    "         \n",
    "    Returns:\n",
    "            nn_model_maker: A function that returns a Model object (either from \n",
    "            `neos.models` or from `pyhf`) when evaluated at the observable's parameters, \n",
    "            along with the background-only parameters for use in downstream inference.\n",
    "    '''\n",
    "    hm = histogram_maker()\n",
    "    \n",
    "    def from_spec(yields):\n",
    "        \n",
    "        s, b, bup, bdown = yields\n",
    "        \n",
    "        spec = {\n",
    "            \"channels\": [\n",
    "                {\n",
    "                    \"name\": \"nn\",\n",
    "                    \"samples\": [\n",
    "                        {\n",
    "                            \"name\": \"signal\",\n",
    "                            \"data\": s,\n",
    "                            \"modifiers\": [\n",
    "                                {\"name\": \"mu\", \"type\": \"normfactor\", \"data\": None}\n",
    "                            ],\n",
    "                        },\n",
    "                        {\n",
    "                            \"name\": \"bkg\",\n",
    "                            \"data\": b,\n",
    "                            \"modifiers\": [\n",
    "                                {\n",
    "                                    \"name\": \"nn_histosys\",\n",
    "                                    \"type\": \"histosys\",\n",
    "                                    \"data\": {\n",
    "                                        \"lo_data\": bdown,\n",
    "                                        \"hi_data\": bup,\n",
    "                                    },\n",
    "                                }\n",
    "                            ],\n",
    "                        },      \n",
    "                    ],\n",
    "                },\n",
    "            ],\n",
    "        }\n",
    "\n",
    "        return pyhf.Model(spec)\n",
    "        \n",
    "        \n",
    "    \n",
    "    def nn_model_maker(network):\n",
    "        yields = hm(network)\n",
    "        m = from_spec(yields)\n",
    "        nompars = m.config.suggested_init()\n",
    "        bonlypars = jax.numpy.asarray([x for x in nompars])\n",
    "        bonlypars = jax.ops.index_update(bonlypars, m.config.poi_index, 0.0)\n",
    "        return m, bonlypars\n",
    "    nn_model_maker.hm = hm\n",
    "    return nn_model_maker"
   ]
  },
  {
   "cell_type": "markdown",
   "metadata": {},
   "source": [
    "### Example usage of `nn_histosys`:\n",
    "\n",
    "We can compose a histogram maker function with this to create a model:"
   ]
  },
  {
   "cell_type": "code",
   "execution_count": null,
   "metadata": {},
   "outputs": [
    {
     "name": "stdout",
     "output_type": "stream",
     "text": [
      "<pyhf.pdf.Model object at 0x141010e50> [0. 0.]\n"
     ]
    }
   ],
   "source": [
    "init_random_params, predict = stax.serial(\n",
    "    stax.Dense(100),\n",
    "    stax.Relu,\n",
    "    stax.Dense(1), # One node for regression\n",
    "    stax.Sigmoid,\n",
    ")\n",
    "\n",
    "# need to pre-specify binning: use 0-1 range from sigmoid\n",
    "# NB: should work with relu etc too, just have to make a binning choice\n",
    "bins = np.linspace(0,1,4)\n",
    "centers   = bins[:-1]  + np.diff(bins)/2. # for plotting\n",
    "\n",
    "# pick a bandwidth\n",
    "bin_width = 1/(len(bins)-1)\n",
    "bandwidth = 0.5 * bin_width\n",
    "\n",
    "hist_maker = kde_bins_from_nn_histosys(predict, bins, bandwidth)\n",
    "\n",
    "nn_observable_model = nn_histosys(hist_maker)\n",
    "model, bkg_only_pars = nn_observable_model(network)\n",
    "print(model, bkg_only_pars)"
   ]
  },
  {
   "cell_type": "code",
   "execution_count": null,
   "metadata": {},
   "outputs": [],
   "source": []
  },
  {
   "cell_type": "code",
   "execution_count": null,
   "metadata": {},
   "outputs": [],
   "source": []
  }
 ],
 "metadata": {
  "kernelspec": {
   "display_name": "Python 3",
   "language": "python",
   "name": "python3"
  }
 },
 "nbformat": 4,
 "nbformat_minor": 4
}
