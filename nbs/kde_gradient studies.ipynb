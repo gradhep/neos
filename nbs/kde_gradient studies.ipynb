{
 "cells": [
  {
   "cell_type": "markdown",
   "metadata": {},
   "source": [
    "# Looking at gradients!"
   ]
  },
  {
   "cell_type": "markdown",
   "metadata": {},
   "source": [
    "## First steps:\n",
    "\n",
    "- Sample some points from a gaussian mixture\n",
    "  - Fixed sample sizes (one big, one small), 5 different random seeds\n",
    "- Create both kde and normal histograms for some binning and bandwidth\n",
    "- Value of truth dist bin is area under curve between bin endpoints (just like kde hist!)\n",
    "- Make these plots for a range of bandwidths\n",
    "\n",
    "Expected behavior:\n",
    "- stdev of count estimate across random seeds decreases with more samples\n",
    "- for large bandwidth, you will see a bias error, as you're smoothing out the shape of the distribution"
   ]
  }
 ],
 "metadata": {
  "kernelspec": {
   "display_name": "Python 3",
   "language": "python",
   "name": "python3"
  },
  "language_info": {
   "codemirror_mode": {
    "name": "ipython",
    "version": 3
   },
   "file_extension": ".py",
   "mimetype": "text/x-python",
   "name": "python",
   "nbconvert_exporter": "python",
   "pygments_lexer": "ipython3",
   "version": "3.8.4"
  }
 },
 "nbformat": 4,
 "nbformat_minor": 4
}
