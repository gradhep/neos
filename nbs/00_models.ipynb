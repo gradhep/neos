{
 "cells": [
  {
   "cell_type": "code",
   "execution_count": null,
   "metadata": {},
   "outputs": [],
   "source": [
    "# default_exp models"
   ]
  },
  {
   "cell_type": "markdown",
   "metadata": {},
   "source": [
    "# neos.models\n",
    "\n",
    "> Surrogate module to temorarily replace pyhf functionality."
   ]
  },
  {
   "cell_type": "markdown",
   "metadata": {},
   "source": [
    "This module implements a very lightweght version of pyhf-like model building. For now, there are some hard-coded numbers (bounds, init) that help with the three gaussian blobs demonstration. This is not meant to be used in practice, as we plan to interface with full pyhf, but this is easily customizable if you want to make some modifications to try something out :)"
   ]
  },
  {
   "cell_type": "code",
   "execution_count": null,
   "metadata": {},
   "outputs": [],
   "source": [
    "# export\n",
    "import jax\n",
    "from jax.config import config\n",
    "\n",
    "import pyhf\n",
    "\n",
    "# avoid those precision errors!\n",
    "config.update(\"jax_enable_x64\", True)\n",
    "\n",
    "pyhf.set_backend(pyhf.tensor.jax_backend())"
   ]
  },
  {
   "cell_type": "markdown",
   "metadata": {},
   "source": [
    "### Define model and config classes analagous to pyhf syntax"
   ]
  },
  {
   "cell_type": "code",
   "execution_count": null,
   "metadata": {},
   "outputs": [],
   "source": [
    "# export\n",
    "# class-based\n",
    "class _Config(object):\n",
    "    def __init__(self):\n",
    "        self.poi_index = 0\n",
    "        self.npars = 2\n",
    "\n",
    "    def suggested_init(self):\n",
    "        return jax.numpy.asarray([1.0, 1.0])\n",
    "\n",
    "    def suggested_bounds(self):\n",
    "        return jax.numpy.asarray(\n",
    "            [jax.numpy.asarray([0.0, 10.0]), jax.numpy.asarray([0.0, 10.0])]\n",
    "        )\n",
    "\n",
    "\n",
    "class Model(object):\n",
    "    def __init__(self, spec):\n",
    "        self.sig, self.nominal, self.uncert = spec\n",
    "        self.factor = (self.nominal / self.uncert) ** 2\n",
    "        self.aux = 1.0 * self.factor\n",
    "        self.config = _Config()\n",
    "\n",
    "    def expected_data(self, pars, include_auxdata=True):\n",
    "        mu, gamma = pars\n",
    "        expected_main = jax.numpy.asarray([gamma * self.nominal + mu * self.sig])\n",
    "        aux_data = jax.numpy.asarray([self.aux])\n",
    "        return jax.numpy.concatenate([expected_main, aux_data])\n",
    "\n",
    "    def logpdf(self, pars, data):\n",
    "        maindata, auxdata = data\n",
    "        main, _ = self.expected_data(pars)\n",
    "        mu, gamma = pars\n",
    "        main = pyhf.probability.Poisson(main).log_prob(maindata)\n",
    "        constraint = pyhf.probability.Poisson(gamma * self.factor).log_prob(auxdata)\n",
    "        # sum log probs over bins\n",
    "        return jax.numpy.asarray([jax.numpy.sum(main + constraint, axis=0)])\n",
    "\n",
    "\n",
    "def hepdata_like(signal_data, bkg_data, bkg_uncerts, batch_size=None):\n",
    "    return Model([signal_data, bkg_data, bkg_uncerts])"
   ]
  },
  {
   "cell_type": "markdown",
   "metadata": {},
   "source": [
    "### Build an example model, and get gradients: "
   ]
  },
  {
   "cell_type": "code",
   "execution_count": null,
   "metadata": {},
   "outputs": [
    {
     "data": {
      "text/plain": [
       "(DeviceArray(-27.74804929, dtype=float64),\n",
       " [DeviceArray(-22., dtype=float64), DeviceArray(-19., dtype=float64)])"
      ]
     },
     "execution_count": null,
     "metadata": {},
     "output_type": "execute_result"
    }
   ],
   "source": [
    "sig = jax.numpy.asarray([20, 40, 3])\n",
    "bkg = jax.numpy.asarray([40, 20, 3])\n",
    "un = jax.numpy.asarray([3, 3, 3])\n",
    "m = hepdata_like(sig, bkg, un)\n",
    "d = m.expected_data([1.0, 1.0])\n",
    "\n",
    "\n",
    "def logpdf_unlisted(pars):\n",
    "    return m.logpdf(pars, d)[0]\n",
    "\n",
    "\n",
    "jax.value_and_grad(logpdf_unlisted)([2.0, 1.0])"
   ]
  },
  {
   "cell_type": "markdown",
   "metadata": {},
   "source": [
    "### A bonus functional implementation!"
   ]
  },
  {
   "cell_type": "code",
   "execution_count": null,
   "metadata": {},
   "outputs": [],
   "source": [
    "# hide\n",
    "# # functional\n",
    "# from collections import namedtuple\n",
    "\n",
    "# _Config = namedtuple(\"_Config\", [\"poi_index\",\"npars\",\"suggested_init\",\"suggested_bounds\"])\n",
    "\n",
    "# def init_config():\n",
    "#     return _Config(0,2,jax.numpy.asarray([1.0, 1.0]),jax.numpy.asarray(\n",
    "#             [jax.numpy.asarray([0.0, 10.0]), jax.numpy.asarray([0.0, 10.0])]\n",
    "#         ))\n",
    "\n",
    "# Model = namedtuple(\"Model\", [\"sig\", \"nominal\", \"uncert\", \"factor\", \"aux\", \"config\"])\n",
    "\n",
    "# def init_model(spec):\n",
    "#     sig, nominal, uncert = spec\n",
    "#     factor = (nominal / uncert) ** 2\n",
    "#     aux = 1.0 * factor\n",
    "#     config = init_config()\n",
    "#     return Model(sig, nominal, uncert, factor, aux, config)\n",
    "\n",
    "# def expected_data(model, pars, include_auxdata=True):\n",
    "#     mu, gamma = pars\n",
    "#     expected_main = jax.numpy.asarray([gamma * model.nominal + mu * model.sig])\n",
    "#     aux_data = jax.numpy.asarray([model.aux])\n",
    "#     return jax.numpy.concatenate([expected_main, aux_data])\n",
    "\n",
    "# @jax.jit\n",
    "# def logpdf(model, pars, data):\n",
    "#     maindata, auxdata = data\n",
    "#     main, _ = expected_data(model,pars)\n",
    "#     mu, gamma = pars\n",
    "#     main = pyhf.probability.Poisson(main).log_prob(maindata)\n",
    "#     constraint = pyhf.probability.Poisson(gamma * model.factor).log_prob(auxdata)\n",
    "#     # sum log probs over bins\n",
    "#     return jax.numpy.asarray([jax.numpy.sum(main + constraint,axis=0)])\n",
    "\n",
    "\n",
    "# def hepdata_like(signal_data, bkg_data, bkg_uncerts, batch_size=None):\n",
    "#     return init_model([signal_data, bkg_data, bkg_uncerts])"
   ]
  },
  {
   "cell_type": "code",
   "execution_count": null,
   "metadata": {},
   "outputs": [],
   "source": []
  }
 ],
 "metadata": {
  "kernelspec": {
   "display_name": "Python 3",
   "language": "python",
   "name": "python3"
  },
  "language_info": {
   "codemirror_mode": {
    "name": "ipython",
    "version": 3
   },
   "file_extension": ".py",
   "mimetype": "text/x-python",
   "name": "python",
   "nbconvert_exporter": "python",
   "pygments_lexer": "ipython3",
   "version": "3.7.7"
  }
 },
 "nbformat": 4,
 "nbformat_minor": 4
}
