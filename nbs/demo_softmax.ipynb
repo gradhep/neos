{
 "cells": [
  {
   "cell_type": "markdown",
   "metadata": {},
   "source": [
    "# The simple 2-bin demo w/ sigmoid activation\n",
    "\n",
    "> "
   ]
  },
  {
   "cell_type": "markdown",
   "metadata": {},
   "source": [
    "![](assets/training.gif)"
   ]
  },
  {
   "cell_type": "code",
   "execution_count": null,
   "metadata": {},
   "outputs": [],
   "source": [
    "import jax\n",
    "import neos.makers as makers\n",
    "import neos.cls as cls\n",
    "import numpy as np\n",
    "import jax.experimental.stax as stax\n",
    "import jax.experimental.optimizers as optimizers\n",
    "import jax.random\n",
    "import time"
   ]
  },
  {
   "cell_type": "markdown",
   "metadata": {},
   "source": [
    "### Initialise network using `jax.experimental.stax`"
   ]
  },
  {
   "cell_type": "code",
   "execution_count": null,
   "metadata": {},
   "outputs": [],
   "source": [
    "init_random_params, predict = stax.serial(\n",
    "    stax.Dense(1024),\n",
    "    stax.Relu,\n",
    "    stax.Dense(1024),\n",
    "    stax.Relu,\n",
    "    stax.Dense(5),\n",
    "    stax.Softmax,\n",
    ")"
   ]
  },
  {
   "cell_type": "markdown",
   "metadata": {},
   "source": [
    "### Initialse tools from `neos`:\n",
    "\n",
    "The way we initialise in `neos` is to define functions that make a statistical model from histograms, which in turn are themselves made from a predictive model, such as a neural network. Here's some detail on the unctions used below:\n",
    "\n",
    "- `hists_from_nn_three_blobs(predict)` uses the nn decision function `predict` defined in the cell above to form histograms from signal and background data, all drawn from multivariate normal distributions with different means. Two background distributions are sampled from, which is meant to mimic the situation in particle physics where one has a 'nominal' prediction for a nuisance parameter and then an alternate value (e.g. from varying up/down by one standard deviation), which then modifies the background pdf. Here, we take that effect to be a shift of the mean of the distribution. The value for the background histogram is then the mean of the resulting counts of the two modes, and the uncertainty can be quantified through the count standard deviation.\n",
    "- `nn_hepdata_like(hmaker)` uses `hmaker` to construct histograms, then feeds them into the `neos.models.hepdata_like` function that constructs a pyhf-like model. This can then be used to call things like `logpdf` and `expected_data` downstream.\n",
    "- `cls_maker` takes a model-making function as it's primary argument, which is fed into functions from `neos.fit` that minimise the `logpdf` of the model in both a constrained (fixed parameter of interest) and a global way. Moreover, these fits are wrapped in a function that allows us to calculate gradients through the fits using *fixed-point differentiation*. This allows for the calculation of both the profile likelihood and its gradient, and then the same for $\\mathsf{cl_s}$ :)\n",
    "\n",
    "All three of these methods return functions. in particular, `cls_maker` returns a function that differentiably calculates $\\mathsf{cl_s}$ values, which is our desired objective to minimise."
   ]
  },
  {
   "cell_type": "code",
   "execution_count": null,
   "metadata": {},
   "outputs": [],
   "source": [
    "hmaker = makers.hists_from_nn_three_blobs(predict)\n",
    "nnm = makers.nn_hepdata_like(hmaker)\n",
    "loss = cls.cls_maker(nnm, solver_kwargs=dict(pdf_transform=True))"
   ]
  },
  {
   "cell_type": "markdown",
   "metadata": {},
   "source": [
    "### Randomly initialise nn weights and check that we can get the gradient of the loss wrt nn params"
   ]
  },
  {
   "cell_type": "code",
   "execution_count": null,
   "metadata": {},
   "outputs": [
    {
     "data": {
      "text/plain": [
       "DeviceArray(0.06006107, dtype=float64)"
      ]
     },
     "execution_count": null,
     "metadata": {},
     "output_type": "execute_result"
    }
   ],
   "source": [
    "_, network = init_random_params(jax.random.PRNGKey(2), (-1, 2))\n",
    "\n",
    "loss(network,1.)"
   ]
  },
  {
   "cell_type": "markdown",
   "metadata": {},
   "source": [
    "### Define training loop!"
   ]
  },
  {
   "cell_type": "code",
   "execution_count": null,
   "metadata": {},
   "outputs": [],
   "source": [
    "#jit_loss = jax.jit(loss)\n",
    "\n",
    "opt_init, opt_update, opt_params = optimizers.adam(1e-3)\n",
    "\n",
    "#@jax.jit\n",
    "def update_and_value(i, opt_state, mu):\n",
    "    net = opt_params(opt_state)\n",
    "    value, grad = jax.value_and_grad(loss)(net, mu)\n",
    "    return opt_update(i, grad, state), value, net\n",
    "\n",
    "def train_network(N):\n",
    "    cls_vals = []\n",
    "    _, network = init_random_params(jax.random.PRNGKey(1), (-1, 2))\n",
    "    state = opt_init(network)\n",
    "    losses = []\n",
    "    \n",
    "    # parameter update function\n",
    "    #@jax.jit\n",
    "    def update_and_value(i, opt_state, mu):\n",
    "        net = opt_params(opt_state)\n",
    "        value, grad = jax.value_and_grad(loss)(net, mu)\n",
    "        return opt_update(i, grad, state), value, net\n",
    "    \n",
    "    for i in range(N):\n",
    "        start_time = time.time()\n",
    "        state, value, network = update_and_value(i,state,1.0)\n",
    "        epoch_time = time.time() - start_time\n",
    "        losses.append(value)\n",
    "        metrics = {\"loss\": losses}\n",
    "        yield network, metrics, epoch_time"
   ]
  },
  {
   "cell_type": "markdown",
   "metadata": {},
   "source": [
    "### Plotting helper function for awesome animations :)"
   ]
  },
  {
   "cell_type": "code",
   "execution_count": null,
   "metadata": {},
   "outputs": [],
   "source": [
    "def plot(axarr, network, metrics, hm, maxN):\n",
    "    ax = axarr[0]\n",
    "    g = np.mgrid[-5:5:101j, -5:5:101j]\n",
    "    levels = np.linspace(0, 1, 21)\n",
    "    ax.contourf(\n",
    "        g[0],\n",
    "        g[1],\n",
    "        predict(network, np.moveaxis(g, 0, -1)).reshape(101, 101, 2)[:, :, 0],\n",
    "        levels=levels,\n",
    "        cmap=\"BrBG\",\n",
    "    )\n",
    "    ax.contour(\n",
    "        g[0],\n",
    "        g[1],\n",
    "        predict(network, np.moveaxis(g, 0, -1)).reshape(101, 101, 2)[:, :, 0],\n",
    "        colors=\"w\",\n",
    "        levels=levels,\n",
    "    )\n",
    "    ax.scatter(hm.sig[:, 0], hm.sig[:, 1], alpha=0.25, c=\"C9\", label=\"sig\")\n",
    "    ax.scatter(hm.bkg1[:, 0], hm.bkg1[:, 1], alpha=0.17, c=\"C1\", label=\"bkg1\")\n",
    "    ax.scatter(hm.bkg2[:, 0], hm.bkg2[:, 1], alpha=0.17, c=\"C1\", label=\"bkg2\")\n",
    "    ax.set_xlim(-5, 5)\n",
    "    ax.set_ylim(-5, 5)\n",
    "    ax.set_xlabel(\"x\")\n",
    "    ax.set_ylabel(\"y\")\n",
    "\n",
    "    ax = axarr[1]\n",
    "    ax.axhline(0.05, c=\"slategray\", linestyle=\"--\")\n",
    "    ax.plot(metrics[\"loss\"], c=\"steelblue\", linewidth=2.0)\n",
    "\n",
    "    ax.set_ylim(0, 0.6)\n",
    "    ax.set_xlim(0, maxN)\n",
    "    ax.set_xlabel(\"epoch\")\n",
    "    ax.set_ylabel(r\"$cl_s$\")\n",
    "\n",
    "    ax = axarr[2]\n",
    "    s, b, db = hm(network)\n",
    "    ax.bar([0, 1], b, color=\"C1\", label=\"bkg\")\n",
    "    ax.bar([0, 1], s, bottom=b, color=\"C9\", label=\"sig\")\n",
    "    ax.bar([0, 1], db, bottom=b - db / 2.0, alpha=0.4, color=\"black\", label=\"bkg error\")\n",
    "    ax.set_ylim(0, 100)\n",
    "    ax.set_ylabel(\"frequency\")\n",
    "    ax.set_xlabel(\"nn output\")"
   ]
  },
  {
   "cell_type": "markdown",
   "metadata": {},
   "source": [
    "## Install celluloid for animations!"
   ]
  },
  {
   "cell_type": "code",
   "execution_count": null,
   "metadata": {},
   "outputs": [],
   "source": [
    "!python -m pip install celluloid"
   ]
  },
  {
   "cell_type": "markdown",
   "metadata": {},
   "source": [
    "### Let's run it!!"
   ]
  },
  {
   "cell_type": "code",
   "execution_count": null,
   "metadata": {},
   "outputs": [
    {
     "name": "stdout",
     "output_type": "stream",
     "text": [
      "epoch 0: CLs = 0.0669196913402792, took 4.881189823150635s\n",
      "epoch 1: CLs = 0.4841473337607056, took 1.4161441326141357s\n",
      "epoch 2: CLs = 0.32680532475501645, took 1.4054231643676758s\n",
      "epoch 3: CLs = 0.1699968874285509, took 1.4557290077209473s\n",
      "epoch 4: CLs = 0.08482955937838588, took 1.42793607711792s\n",
      "epoch 5: CLs = 0.04455252530370135, took 1.4426677227020264s\n",
      "epoch 6: CLs = 0.02509858952860622, took 1.3971951007843018s\n",
      "epoch 7: CLs = 0.015171918468489975, took 1.3903610706329346s\n",
      "epoch 8: CLs = 0.009819660207323277, took 1.44907808303833s\n",
      "epoch 9: CLs = 0.0068158194365592895, took 1.4250729084014893s\n",
      "epoch 10: CLs = 0.005073459554749471, took 1.418778896331787s\n",
      "epoch 11: CLs = 0.004014875415832453, took 1.4365489482879639s\n",
      "epoch 12: CLs = 0.0033303831092827973, took 1.4521620273590088s\n",
      "epoch 13: CLs = 0.002855594445106968, took 1.4769341945648193s\n",
      "epoch 14: CLs = 0.002504164311135426, took 1.436406135559082s\n",
      "epoch 15: CLs = 0.002229384440186166, took 1.4946000576019287s\n",
      "epoch 16: CLs = 0.0020056710533609134, took 1.53544020652771s\n",
      "epoch 17: CLs = 0.0018179849800570302, took 1.5617849826812744s\n",
      "epoch 18: CLs = 0.0016570589973909922, took 1.4964268207550049s\n",
      "epoch 19: CLs = 0.0015172227216502243, took 1.530569314956665s\n"
     ]
    },
    {
     "data": {
      "image/png": "[encoded data removed]",
      "text/plain": [
       "<Figure size 1080x360 with 3 Axes>"
      ]
     },
     "metadata": {
      "needs_background": "light"
     },
     "output_type": "display_data"
    }
   ],
   "source": [
    "#slow\n",
    "import numpy as np\n",
    "from matplotlib import pyplot as plt\n",
    "from IPython.display import HTML\n",
    "\n",
    "plt.rcParams.update(\n",
    "    {\n",
    "        \"axes.labelsize\": 13,\n",
    "        \"axes.linewidth\": 1.2,\n",
    "        \"xtick.labelsize\": 13,\n",
    "        \"ytick.labelsize\": 13,\n",
    "        \"figure.figsize\": [13., 4.0],\n",
    "        \"font.size\": 13,\n",
    "        \"xtick.major.size\": 3,\n",
    "        \"ytick.major.size\": 3,\n",
    "        \"legend.fontsize\": 11,\n",
    "    }\n",
    ")\n",
    "\n",
    "\n",
    "fig, axarr = plt.subplots(1, 3, dpi=120)\n",
    "\n",
    "maxN = 50 # make me bigger for better results!\n",
    "\n",
    "animate = False # animations fail tests...\n",
    "\n",
    "if animate:\n",
    "    from celluloid import Camera\n",
    "    camera = Camera(fig)\n",
    "\n",
    "# Training\n",
    "for i, (network, metrics, epoch_time) in enumerate(train_network(maxN)):\n",
    "    print(f\"epoch {i}:\", f'CLs = {metrics[\"loss\"][-1]}, took {epoch_time}s')\n",
    "    if animate:\n",
    "        plot(axarr, network, metrics, nnm.hm, maxN=maxN)\n",
    "        plt.tight_layout()\n",
    "        camera.snap()\n",
    "        if i % 10 == 0:\n",
    "            camera.animate().save(\"animation.gif\", writer=\"imagemagick\", fps=8)\n",
    "            #HTML(camera.animate().to_html5_video())\n",
    "if animate:\n",
    "    camera.animate().save(\"animation.gif\", writer=\"imagemagick\", fps=8)"
   ]
  },
  {
   "cell_type": "code",
   "execution_count": null,
   "metadata": {},
   "outputs": [],
   "source": []
  },
  {
   "cell_type": "code",
   "execution_count": null,
   "metadata": {},
   "outputs": [],
   "source": []
  }
 ],
 "metadata": {
  "kernelspec": {
   "display_name": "Python 3",
   "language": "python",
   "name": "python3"
  }
 },
 "nbformat": 4,
 "nbformat_minor": 4
}
