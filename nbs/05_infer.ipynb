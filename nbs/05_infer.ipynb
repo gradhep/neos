{
 "cells": [
  {
   "cell_type": "code",
   "execution_count": null,
   "metadata": {},
   "outputs": [],
   "source": [
    "# default_exp infer"
   ]
  },
  {
   "cell_type": "markdown",
   "metadata": {},
   "source": [
    "# neos.infer\n",
    "\n",
    "> Module containing functions for the differentiable calculation of inference metrics."
   ]
  },
  {
   "cell_type": "code",
   "execution_count": null,
   "metadata": {},
   "outputs": [],
   "source": [
    "# export\n",
    "import jax\n",
    "import jax.numpy as jnp\n",
    "import pyhf\n",
    "from functools import partial\n",
    "\n",
    "pyhf.set_backend(\"jax\")\n",
    "# avoid those precision errors!\n",
    "jax.config.update(\"jax_enable_x64\", True)\n",
    "\n",
    "from neos.fit import global_fit, constrained_fit\n",
    "from neos.transforms import to_bounded_vec, to_inf_vec"
   ]
  },
  {
   "cell_type": "code",
   "execution_count": null,
   "metadata": {},
   "outputs": [],
   "source": [
    "# export\n",
    "def expected_CLs(model_maker, solver_kwargs):\n",
    "    \"\"\"\n",
    "    Args:\n",
    "        model_maker: Function that returns a Model object using the `params` arg.\n",
    "\n",
    "    Returns:\n",
    "        get_expected_CLs: A callable function that takes the parameters of the observable as argument,\n",
    "        and returns an expected p-value from testing the background-only model against the\n",
    "        nominal signal hypothesis (or whatever corresponds to the value of the arg 'test_mu')\n",
    "    \"\"\"\n",
    "\n",
    "    @jax.jit\n",
    "    def get_expected_CLs(params, test_mu, hyperparams=None, pvalues=[\"CLs\"]):\n",
    "        \"\"\"A callable function that takes the parameters of the observable as\n",
    "        argument, and returns an expected CLs (or p-value if you set\n",
    "        `return_pvalue`=True) from testing the background-only model against\n",
    "        the nominal signal hypothesis (or whatever corresponds to the value of\n",
    "        the arg 'test_mu')\n",
    "\n",
    "        Args:\n",
    "            test_mu: a float for the value of mu to test against.\n",
    "\n",
    "            params: jax array of the parameters of the observable.\n",
    "\n",
    "            hyperparams: dict of hyperparameters for the model construction, e.g. bandwidth & binning for kde histograms.\n",
    "\n",
    "            pvalues: list of strings corresponding to the pvalues that should be returned. Defaults to CL_s.\n",
    "        \"\"\"\n",
    "        # g_fitter = global_fit(model_maker, **solver_kwargs)\n",
    "        c_fitter = constrained_fit(model_maker, **solver_kwargs)\n",
    "\n",
    "        m, bonlypars = model_maker([params, hyperparams])\n",
    "        exp_data = m.expected_data(bonlypars)\n",
    "        bounds = m.config.suggested_bounds()\n",
    "\n",
    "        # map these\n",
    "        initval = jnp.asarray([test_mu, 1.0])\n",
    "        transforms = solver_kwargs.get(\"pdf_transform\", False)\n",
    "        if transforms:\n",
    "            initval = to_inf_vec(initval, bounds)\n",
    "\n",
    "        # the constrained fit\n",
    "        numerator = (\n",
    "            to_bounded_vec(c_fitter(initval, [[params, hyperparams], test_mu]), bounds)\n",
    "            if transforms\n",
    "            else c_fitter(initval, [[params, hyperparams], test_mu])\n",
    "        )\n",
    "\n",
    "        # don't have to fit these -- we know them for expected limits!\n",
    "        denominator = bonlypars\n",
    "        # denominator = to_bounded_vec(g_fitter(initval, params), bounds) if transforms else g_fitter(initval, params)\n",
    "\n",
    "        # compute test statistic (lambda(µ))\n",
    "        profile_likelihood = -2 * (\n",
    "            m.logpdf(numerator, exp_data)[0] - m.logpdf(denominator, exp_data)[0]\n",
    "        )\n",
    "\n",
    "        # in exclusion fit zero out test stat if best fit µ^ is larger than test µ\n",
    "        muhat = denominator[0]\n",
    "        sqrtqmu = jnp.sqrt(jnp.where(muhat < test_mu, profile_likelihood, 0.0))\n",
    "        CLsb = 1 - pyhf.tensorlib.normal_cdf(sqrtqmu)\n",
    "        altval = 0\n",
    "        CLb = 1 - pyhf.tensorlib.normal_cdf(altval)\n",
    "        CLs = CLsb / CLb\n",
    "\n",
    "        pdict = dict(CLs=CLs, p_sb=CLsb, p_b=CLb)\n",
    "        return [pdict[key] for key in pvalues]\n",
    "\n",
    "    return get_expected_CLs\n"
   ]
  },
  {
   "cell_type": "markdown",
   "metadata": {},
   "source": [
    "### Usage:"
   ]
  },
  {
   "cell_type": "markdown",
   "metadata": {},
   "source": [
    "As before, we need to set up the whole workflow in order to have the required tools to calculate an expected CLs value for one of the example problems."
   ]
  },
  {
   "cell_type": "code",
   "execution_count": null,
   "metadata": {},
   "outputs": [],
   "source": [
    "import jax\n",
    "import jax.numpy as jnp\n",
    "from jax.random import PRNGKey\n",
    "from jax.experimental import stax\n",
    "\n",
    "import neos\n",
    "from neos.makers import hists_from_nn, histosys_model_from_hists\n",
    "from neos.data import generate_blobs\n",
    "from neos.fit import global_fit, constrained_fit\n",
    "from neos.infer import expected_CLs\n",
    "\n",
    "# data generator\n",
    "gen_data = generate_blobs(rng=PRNGKey(1),blobs=4)\n",
    "\n",
    "# nn\n",
    "init_random_params, predict = stax.serial(\n",
    "    stax.Dense(1024),\n",
    "    stax.Relu,\n",
    "    stax.Dense(1),\n",
    "    stax.Sigmoid\n",
    ")\n",
    "\n",
    "# instantiate model maker\n",
    "hist_maker = hists_from_nn(gen_data, predict, method='kde')\n",
    "model_maker = histosys_model_from_hists(hist_maker)\n",
    "\n",
    "# use to make CLs getter!\n",
    "get_cls = expected_CLs(model_maker, solver_kwargs=dict(pdf_transform=True))"
   ]
  },
  {
   "cell_type": "markdown",
   "metadata": {},
   "source": [
    "Let's evaluate the CLs value for some weight initialization & test value of the model parameter $\\mu$:"
   ]
  },
  {
   "cell_type": "code",
   "execution_count": null,
   "metadata": {},
   "outputs": [
    {
     "data": {
      "text/plain": [
       "[DeviceArray(0.12064392, dtype=float64)]"
      ]
     },
     "execution_count": null,
     "metadata": {},
     "output_type": "execute_result"
    }
   ],
   "source": [
    "# grab parameters for nn and kde\n",
    "_, network = init_random_params(jax.random.PRNGKey(13), (-1, 2))\n",
    "hyperpars = dict(bandwidth=0.5, bins=jnp.linspace(0,1,3))\n",
    "\n",
    "get_cls(network, test_mu=1, hyperparams=hyperpars)"
   ]
  },
  {
   "cell_type": "code",
   "execution_count": null,
   "metadata": {},
   "outputs": [],
   "source": []
  }
 ],
 "metadata": {
  "kernelspec": {
   "display_name": "Python 3",
   "language": "python",
   "name": "python3"
  }
 },
 "nbformat": 4,
 "nbformat_minor": 4
}
